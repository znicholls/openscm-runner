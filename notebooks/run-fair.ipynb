{
 "cells": [
  {
   "cell_type": "markdown",
   "metadata": {},
   "source": [
    "# Minimal OpenSCM-Runner example with FaIR\n",
    "\n",
    "Requires fair >= 1.6.0c3 and < 2.0.0"
   ]
  },
  {
   "cell_type": "code",
   "execution_count": null,
   "metadata": {},
   "outputs": [],
   "source": [
    "# NBVAL_IGNORE_OUTPUT\n",
    "import openscm_runner"
   ]
  },
  {
   "cell_type": "code",
   "execution_count": null,
   "metadata": {},
   "outputs": [],
   "source": [
    "# NBVAL_IGNORE_OUTPUT\n",
    "print(openscm_runner.__version__)"
   ]
  },
  {
   "cell_type": "code",
   "execution_count": null,
   "metadata": {},
   "outputs": [],
   "source": [
    "import os.path\n",
    "\n",
    "import numpy as np\n",
    "import matplotlib.pyplot as plt\n",
    "import pandas as pd\n",
    "import pyam\n",
    "from fair.forward import fair_scm\n",
    "from fair.ancil import natural, cmip6_solar, cmip6_volcanic\n",
    "from scmdata import ScmRun\n",
    "from tqdm import tqdm_notebook\n",
    "\n",
    "from openscm_runner.run import run\n",
    "from openscm_runner.adapters import FAIR\n",
    "from openscm_runner.utils import calculate_quantiles"
   ]
  },
  {
   "cell_type": "code",
   "execution_count": null,
   "metadata": {},
   "outputs": [],
   "source": [
    "fair = FAIR()"
   ]
  },
  {
   "cell_type": "code",
   "execution_count": null,
   "metadata": {},
   "outputs": [],
   "source": [
    "# NBVAL_IGNORE_OUTPUT\n",
    "fair.get_version()"
   ]
  },
  {
   "cell_type": "code",
   "execution_count": null,
   "metadata": {},
   "outputs": [],
   "source": [
    "# NBVAL_IGNORE_OUTPUT\n",
    "df_fair = ScmRun(\n",
    "    os.path.join(\n",
    "        \"..\", \"tests\", \"test-data\", \"rcmip_scen_ssp_world_emissions.csv\"\n",
    "    ),\n",
    "    lowercase_cols=True\n",
    ")\n",
    "\n",
    "df_fair.head(30)"
   ]
  },
  {
   "cell_type": "code",
   "execution_count": null,
   "metadata": {
    "scrolled": true
   },
   "outputs": [],
   "source": [
    "# NBVAL_IGNORE_OUTPUT\n",
    "x = run(\n",
    "    climate_models_cfgs={\n",
    "        \"FAIR\": [\n",
    "            {},  # passing an empty list of an empty dict will run with defaults\n",
    "            {\"q\": np.array([0.3, 0.45]), \"r0\": 30.0, \"lambda_global\": 0.9},\n",
    "            {\"q\": np.array([0.35, 0.4]), \"r0\": 25.0, \"lambda_global\": 1.1}, \n",
    "        ], \n",
    "    },\n",
    "    scenarios=df_fair,\n",
    "    output_variables=(\n",
    "        \"Surface Temperature\", \n",
    "        \"Atmospheric Concentrations|CO2\",\n",
    "        \"Effective Radiative Forcing\",\n",
    "        \"Effective Radiative Forcing|CO2\",\n",
    "        \"Effective Radiative Forcing|Aerosols\",\n",
    "        \"Effective Radiative Forcing|Aerosols|Direct Effect|BC\",\n",
    "        \"Effective Radiative Forcing|Aerosols|Direct Effect|OC\",\n",
    "        \"Effective Radiative Forcing|Aerosols|Direct Effect|Sulfur\",\n",
    "        \"Effective Radiative Forcing|Aerosols|Direct Effect\",\n",
    "        \"Effective Radiative Forcing|Aerosols|Indirect Effect\",\n",
    "    ),\n",
    ")"
   ]
  },
  {
   "cell_type": "markdown",
   "metadata": {},
   "source": [
    "Note in the plots below that 'model' is the IAM that produced the scenario. In all cases, the climate model is FaIR."
   ]
  },
  {
   "cell_type": "code",
   "execution_count": null,
   "metadata": {},
   "outputs": [],
   "source": [
    "# NBVAL_IGNORE_OUTPUT\n",
    "x.get_unique_meta(\"climate_model\", no_duplicates=True)"
   ]
  },
  {
   "cell_type": "code",
   "execution_count": null,
   "metadata": {},
   "outputs": [],
   "source": [
    "# NBVAL_IGNORE_OUTPUT\n",
    "ax = plt.figure(figsize=(12, 7)).add_subplot(111)\n",
    "x.filter(variable=\"Surface Temperature\").lineplot(\n",
    "    hue=\"scenario\", style=\"model\", ax=ax, time_axis=\"year\"\n",
    ")\n",
    "ax.axhline(1.1)\n",
    "ax.axvline(2018)"
   ]
  },
  {
   "cell_type": "code",
   "execution_count": null,
   "metadata": {},
   "outputs": [],
   "source": [
    "# NBVAL_IGNORE_OUTPUT\n",
    "ax = plt.figure(figsize=(12, 7)).add_subplot(111)\n",
    "x.filter(variable=\"Atmospheric Concentrations|CO2\").lineplot(\n",
    "    hue=\"scenario\", style=\"model\", ax=ax\n",
    ")"
   ]
  },
  {
   "cell_type": "code",
   "execution_count": null,
   "metadata": {},
   "outputs": [],
   "source": [
    "# NBVAL_IGNORE_OUTPUT\n",
    "ax = plt.figure(figsize=(12, 7)).add_subplot(111)\n",
    "x.filter(variable=\"Effective Radiative Forcing*\", scenario=\"ssp245\").lineplot(\n",
    "    hue=\"variable\", ax=ax\n",
    ")"
   ]
  },
  {
   "cell_type": "code",
   "execution_count": null,
   "metadata": {},
   "outputs": [],
   "source": [
    "x.filter(variable=\"Surface Temperature\", year=2100, scenario=[\"ssp126\"]).values.max()"
   ]
  },
  {
   "cell_type": "code",
   "execution_count": null,
   "metadata": {},
   "outputs": [],
   "source": [
    "x.filter(variable=\"Surface Temperature\", year=2100, scenario=[\"ssp126\"]).values.min()"
   ]
  },
  {
   "cell_type": "code",
   "execution_count": null,
   "metadata": {},
   "outputs": [],
   "source": [
    "x.filter(variable=\"Surface Temperature\", year=2100, scenario=[\"ssp370\"]).values.max()"
   ]
  },
  {
   "cell_type": "code",
   "execution_count": null,
   "metadata": {},
   "outputs": [],
   "source": [
    "x.filter(variable=\"Surface Temperature\", year=2100, scenario=[\"ssp370\"]).values.min()"
   ]
  },
  {
   "cell_type": "code",
   "execution_count": null,
   "metadata": {},
   "outputs": [],
   "source": [
    "quantiles = calculate_quantiles(x, [0.05, 0.17, 0.5, 0.83, 0.95])"
   ]
  },
  {
   "cell_type": "code",
   "execution_count": null,
   "metadata": {},
   "outputs": [],
   "source": [
    "quantiles.filter(variable=\"Surface Temperature\", year=2100, scenario=[\"ssp126\"], quantile=0.05).values[0][0]"
   ]
  },
  {
   "cell_type": "code",
   "execution_count": null,
   "metadata": {},
   "outputs": [],
   "source": [
    "quantiles.filter(variable=\"Surface Temperature\", year=2100, scenario=[\"ssp126\"], quantile=0.95).values[0][0]"
   ]
  },
  {
   "cell_type": "code",
   "execution_count": null,
   "metadata": {},
   "outputs": [],
   "source": [
    "quantiles.filter(variable=\"Surface Temperature\", year=2100, scenario=[\"ssp370\"], quantile=0.05).values[0][0]"
   ]
  },
  {
   "cell_type": "code",
   "execution_count": null,
   "metadata": {},
   "outputs": [],
   "source": [
    "quantiles.filter(variable=\"Surface Temperature\", year=2100, scenario=[\"ssp370\"], quantile=0.95).values[0][0]"
   ]
  }
 ],
 "metadata": {
  "kernelspec": {
   "display_name": "Python 3",
   "language": "python",
   "name": "python3"
  },
  "language_info": {
   "codemirror_mode": {
    "name": "ipython",
    "version": 3
   },
   "file_extension": ".py",
   "mimetype": "text/x-python",
   "name": "python",
   "nbconvert_exporter": "python",
   "pygments_lexer": "ipython3",
   "version": "3.8.3"
  }
 },
 "nbformat": 4,
 "nbformat_minor": 4
}
